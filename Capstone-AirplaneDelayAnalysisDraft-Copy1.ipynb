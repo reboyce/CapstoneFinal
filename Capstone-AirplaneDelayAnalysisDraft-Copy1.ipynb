{
 "cells": [
  {
   "cell_type": "code",
   "execution_count": 1,
   "metadata": {},
   "outputs": [],
   "source": [
    "import pandas as pd \n",
    "import numpy as np\n",
    "import matplotlib.pyplot as plt\n",
    "import matplotlib.ticker as ticker\n",
    "from sklearn.preprocessing import OneHotEncoder\n",
    "import random"
   ]
  },
  {
   "cell_type": "code",
   "execution_count": 2,
   "metadata": {},
   "outputs": [],
   "source": [
    "df_2009 = pd.read_csv('2009.csv')\n",
    "df_2010 = pd.read_csv('2010.csv')\n",
    "df_2011 = pd.read_csv('2011.csv')\n",
    "df_2012 = pd.read_csv('2012.csv')\n",
    "df_2013 = pd.read_csv('2013.csv')\n",
    "df_2014 = pd.read_csv('2014.csv')\n",
    "df_2015 = pd.read_csv('2015.csv')\n",
    "df_2016 = pd.read_csv('2016.csv')\n",
    "df_2017 = pd.read_csv('2017.csv')\n",
    "df_2018 = pd.read_csv('2018.csv')\n",
    "df_2019 = pd.read_csv('2019.csv')"
   ]
  },
  {
   "cell_type": "code",
   "execution_count": 3,
   "metadata": {},
   "outputs": [],
   "source": [
    "US_Airports = [\"DCA\", \"EWR\", \"IAD\", \"ATL\", \"CLE\", \"ORD\", \"BWI\", \"GSO\", \"JAN\", \"IAH\", \"MSP\", \"JAX\", \"CRP\", \"PIT\", \"TYS\", \"ALB\", \"OKC\",\n",
    "\"MCI\", \"CHS\", \"BHM\", \"ABQ\", \"ORF\", \"RSW\", \"BUF\", \"IND\", \"COS\", \"MAF\", \"CLT\", \"DTW\", \"CVG\", \"ELP\", \"GRR\", \"DFW\", \"MKE\", \"CMH\",\n",
    "\"LGA\", \"RDU\", \"LIT\", \"MFE\", \"MHT\", \"OMA\", \"DAL\", \"LBB\", \"TUS\", \"MEM\", \"TUL\", \"LEX\", \"RIC\", \"MOB\", \"MSN\", \"ICT\", \"GSP\", \"BRO\",\n",
    "\"DAY\", \"BTR\", \"PHL\", \"PVD\", \"AVL\", \"BDL\", \"BTV\", \"MIA\", \"BOS\", \"BNA\", \"STL\", \"GPT\", \"HSV\", \"SHV\", \"SLC\", \"PNS\", \"PBI\", \"SAV\",\n",
    "\"TPA\", \"SDF\", \"ROC\", \"DSM\", \"XNA\", \"LRD\", \"BGR\", \"VPS\", \"ABE\", \"PHX\", \"AMA\", \"SYR\", \"CAE\", \"CRW\", \"AUS\", \"MSY\", \"ATW\", \"BFL\",\n",
    "\"BUR\", \"CID\", \"COD\", \"CPR\", \"CWA\", \"DEN\", \"DRO\", \"EGE\", \"FAT\", \"FAY\", \"FLG\", \"FSD\", \"FWA\", \"GCC\", \"GJT\", \"GRB\", \"HNL\", \"ILM\",\n",
    "\"ITO\", \"JFK\", \"KOA\", \"LAN\", \"LAS\", \"LAX\", \"LGB\", \"LIH\", \"MBS\", \"MDT\", \"MLI\", \"MRY\", \"MTJ\", \"OAK\", \"OGG\", \"ONT\", \"PSP\", \"PWM\",\n",
    "\"RAP\", \"RKS\", \"RNO\", \"ROA\", \"SAN\", \"SAT\", \"SBA\", \"SBN\", \"SBP\", \"SNA\", \"SPI\", \"TEX\", \"TVC\", \"YUM\", \"SRQ\", \"HDN\", \"SMF\", \"FNT\",\n",
    "\"DLH\", \"MDW\", \"HTS\", \"AZO\", \"FLL\", \"AVP\", \"BOI\", \"HLN\", \"BZN\", \"IDA\", \"FCA\", \"GEG\", \"GTF\", \"JAC\", \"MSO\", \"BIL\", \"ASE\", \"PDX\",\n",
    "\"ACV\", \"EUG\", \"GUC\", \"MFR\", \"PSC\", \"SEA\", \"SFO\", \"BTM\", \"RDM\", \"LWS\", \"SJC\", \"IYK\", \"SMX\", \"OXR\", \"RDD\", \"CEC\", \"SGU\", \"MOD\",\n",
    "\"OTH\", \"CLD\", \"LMT\", \"CIC\", \"IPL\", \"LNK\", \"BIS\", \"FAR\", \"CAK\", \"PIA\", \"SGF\", \"HPN\"]"
   ]
  },
  {
   "cell_type": "code",
   "execution_count": 4,
   "metadata": {},
   "outputs": [],
   "source": [
    "counts = df_2009.groupby('ORIGIN')['ORIGIN'].count()\n",
    "small_airports = counts.sort_values(ascending=False).head(10)\n",
    "airport_names = small_airports.index\n",
    "airports = airport_names.tolist()"
   ]
  },
  {
   "cell_type": "code",
   "execution_count": 5,
   "metadata": {},
   "outputs": [],
   "source": [
    "# Regionally done \n",
    "df_2009 = df_2009.loc[df_2009['ORIGIN'].isin(airports) & df_2009['DEST'].isin(airports)]\n",
    "df_2010 = df_2010.loc[df_2010['ORIGIN'].isin(airports) & df_2010['DEST'].isin(airports)]\n",
    "df_2011 = df_2011.loc[df_2011['ORIGIN'].isin(airports) & df_2011['DEST'].isin(airports)]\n",
    "df_2012 = df_2012.loc[df_2012['ORIGIN'].isin(airports) & df_2012['DEST'].isin(airports)]\n",
    "df_2013 = df_2013.loc[df_2013['ORIGIN'].isin(airports) & df_2013['DEST'].isin(airports)]\n",
    "df_2014 = df_2014.loc[df_2014['ORIGIN'].isin(airports) & df_2014['DEST'].isin(airports)]\n",
    "df_2015 = df_2015.loc[df_2015['ORIGIN'].isin(airports) & df_2015['DEST'].isin(airports)]\n",
    "df_2016 = df_2016.loc[df_2016['ORIGIN'].isin(airports) & df_2016['DEST'].isin(airports)]\n",
    "df_2017 = df_2017.loc[df_2017['ORIGIN'].isin(airports) & df_2017['DEST'].isin(airports)]\n",
    "df_2018 = df_2018.loc[df_2018['ORIGIN'].isin(airports) & df_2018['DEST'].isin(airports)]\n",
    "df_2019 = df_2019.loc[df_2019['ORIGIN'].isin(airports) & df_2019['DEST'].isin(airports)]\n",
    "\n",
    "# If nationally done \n",
    "# df_2009 = df_2009.loc[df_2009['ORIGIN'].isin(airports) & df_2009['DEST'].isin(airports)]\n",
    "# df_2010 = df_2010.loc[df_2010['ORIGIN'].isin(airports) & df_2010['DEST'].isin(airports)]\n",
    "# df_2011 = df_2011.loc[df_2011['ORIGIN'].isin(airports) & df_2011['DEST'].isin(airports)]\n",
    "# df_2012 = df_2012.loc[df_2012['ORIGIN'].isin(airports) & df_2012['DEST'].isin(airports)]\n",
    "# df_2013 = df_2013.loc[df_2013['ORIGIN'].isin(airports) & df_2013['DEST'].isin(airports)]\n",
    "# df_2014 = df_2014.loc[df_2014['ORIGIN'].isin(airports) & df_2014['DEST'].isin(airports)]\n",
    "# df_2015 = df_2015.loc[df_2015['ORIGIN'].isin(airports) & df_2015['DEST'].isin(airports)]\n",
    "# df_2016 = df_2016.loc[df_2016['ORIGIN'].isin(airports) & df_2016['DEST'].isin(airports)]\n",
    "# df_2017 = df_2017.loc[df_2017['ORIGIN'].isin(airports) & df_2017['DEST'].isin(airports)]\n",
    "# df_2018 = df_2018.loc[df_2018['ORIGIN'].isin(airports) & df_2018['DEST'].isin(airports)]\n",
    "# df_2019 = df_2019.loc[df_2019['ORIGIN'].isin(airports) & df_2019['DEST'].isin(airports)]"
   ]
  },
  {
   "cell_type": "code",
   "execution_count": 6,
   "metadata": {},
   "outputs": [],
   "source": [
    "#Setting Lists for easier manipulation later on\n",
    "df_list = [df_2009, df_2010, df_2011, df_2012, df_2013, df_2014, df_2015, df_2016, df_2017, df_2018, df_2018, df_2019]\n",
    "df_list_train = [df_2009, df_2010, df_2011, df_2012, df_2013, df_2014, df_2015, df_2016, df_2017, df_2018]"
   ]
  },
  {
   "cell_type": "markdown",
   "metadata": {},
   "source": [
    "# Exploratory Analysis: \n",
    "Please do not run through this code. The code below analyzes 2009 data to root out Null values and performes cleaning on just 2009 data. Please proceed to the next markdown if you would like to run through this project."
   ]
  },
  {
   "cell_type": "code",
   "execution_count": null,
   "metadata": {},
   "outputs": [],
   "source": [
    "df_2009.info()"
   ]
  },
  {
   "cell_type": "code",
   "execution_count": null,
   "metadata": {},
   "outputs": [],
   "source": [
    "df_2009['DEST'].unique()"
   ]
  },
  {
   "cell_type": "code",
   "execution_count": null,
   "metadata": {},
   "outputs": [],
   "source": [
    "US_Airports = [\"DCA\", \"EWR\", \"IAD\", \"ATL\", \"CLE\", \"ORD\", \"BWI\", \"GSO\", \"JAN\", \"IAH\", \"MSP\", \"JAX\", \"CRP\", \"PIT\", \"TYS\", \"ALB\", \"OKC\",\n",
    "\"MCI\", \"CHS\", \"BHM\", \"ABQ\", \"ORF\", \"RSW\", \"BUF\", \"IND\", \"COS\", \"MAF\", \"CLT\", \"DTW\", \"CVG\", \"ELP\", \"GRR\", \"DFW\", \"MKE\", \"CMH\",\n",
    "\"LGA\", \"RDU\", \"LIT\", \"MFE\", \"MHT\", \"OMA\", \"DAL\", \"LBB\", \"TUS\", \"MEM\", \"TUL\", \"LEX\", \"RIC\", \"MOB\", \"MSN\", \"ICT\", \"GSP\", \"BRO\",\n",
    "\"DAY\", \"BTR\", \"PHL\", \"PVD\", \"AVL\", \"BDL\", \"BTV\", \"MIA\", \"BOS\", \"BNA\", \"STL\", \"GPT\", \"HSV\", \"SHV\", \"SLC\", \"PNS\", \"PBI\", \"SAV\",\n",
    "\"TPA\", \"SDF\", \"ROC\", \"DSM\", \"XNA\", \"LRD\", \"BGR\", \"VPS\", \"ABE\", \"PHX\", \"AMA\", \"SYR\", \"CAE\", \"CRW\", \"AUS\", \"MSY\", \"ATW\", \"BFL\",\n",
    "\"BUR\", \"CID\", \"COD\", \"CPR\", \"CWA\", \"DEN\", \"DRO\", \"EGE\", \"FAT\", \"FAY\", \"FLG\", \"FSD\", \"FWA\", \"GCC\", \"GJT\", \"GRB\", \"HNL\", \"ILM\",\n",
    "\"ITO\", \"JFK\", \"KOA\", \"LAN\", \"LAS\", \"LAX\", \"LGB\", \"LIH\", \"MBS\", \"MDT\", \"MLI\", \"MRY\", \"MTJ\", \"OAK\", \"OGG\", \"ONT\", \"PSP\", \"PWM\",\n",
    "\"RAP\", \"RKS\", \"RNO\", \"ROA\", \"SAN\", \"SAT\", \"SBA\", \"SBN\", \"SBP\", \"SNA\", \"SPI\", \"TEX\", \"TVC\", \"YUM\", \"SRQ\", \"HDN\", \"SMF\", \"FNT\",\n",
    "\"DLH\", \"MDW\", \"HTS\", \"AZO\", \"FLL\", \"AVP\", \"BOI\", \"HLN\", \"BZN\", \"IDA\", \"FCA\", \"GEG\", \"GTF\", \"JAC\", \"MSO\", \"BIL\", \"ASE\", \"PDX\",\n",
    "\"ACV\", \"EUG\", \"GUC\", \"MFR\", \"PSC\", \"SEA\", \"SFO\", \"BTM\", \"RDM\", \"LWS\", \"SJC\", \"IYK\", \"SMX\", \"OXR\", \"RDD\", \"CEC\", \"SGU\", \"MOD\",\n",
    "\"OTH\", \"CLD\", \"LMT\", \"CIC\", \"IPL\", \"LNK\", \"BIS\", \"FAR\", \"CAK\", \"PIA\", \"SGF\", \"HPN\"]\n"
   ]
  },
  {
   "cell_type": "code",
   "execution_count": null,
   "metadata": {},
   "outputs": [],
   "source": [
    "counts = df_2009.groupby('ORIGIN')['ORIGIN'].count()\n",
    "top_airports = counts.sort_values(ascending=False).head(40)\n",
    "airport_names = top_airports.index\n",
    "airports = airport_names.tolist()"
   ]
  },
  {
   "cell_type": "code",
   "execution_count": null,
   "metadata": {},
   "outputs": [],
   "source": [
    "df_2009 = df_2009[df_2009['ORIGIN'].isin(airports) & df_2009['DEST'].isin(airports)]"
   ]
  },
  {
   "cell_type": "code",
   "execution_count": null,
   "metadata": {},
   "outputs": [],
   "source": [
    "df_2009.head()"
   ]
  },
  {
   "cell_type": "code",
   "execution_count": null,
   "metadata": {},
   "outputs": [],
   "source": [
    "df_2009.isnull().sum()"
   ]
  },
  {
   "cell_type": "code",
   "execution_count": null,
   "metadata": {},
   "outputs": [],
   "source": [
    "df_2009.drop(columns=['Unnamed: 27',\n",
    "                 'CRS_DEP_TIME',\n",
    "                 'CANCELLED',\n",
    "                 'CANCELLATION_CODE', \n",
    "                 'DIVERTED', \n",
    "                 'CRS_ELAPSED_TIME', \n",
    "                 'ACTUAL_ELAPSED_TIME',\n",
    "                 'CARRIER_DELAY',\n",
    "                 'WEATHER_DELAY',\n",
    "                 'NAS_DELAY',\n",
    "                 'SECURITY_DELAY', \n",
    "                 'CRS_ARR_TIME',\n",
    "                 'LATE_AIRCRAFT_DELAY'], inplace=True)"
   ]
  },
  {
   "cell_type": "code",
   "execution_count": null,
   "metadata": {},
   "outputs": [],
   "source": [
    "df_2009.isnull().sum()"
   ]
  },
  {
   "cell_type": "code",
   "execution_count": null,
   "metadata": {},
   "outputs": [],
   "source": [
    "correlations = df_2009.corr()['Delay'].sort_values(ascending=False)\n",
    "print(correlations)"
   ]
  },
  {
   "cell_type": "code",
   "execution_count": null,
   "metadata": {},
   "outputs": [],
   "source": [
    "df_2009[df_2009['ARR_TIME'].isnull()]"
   ]
  },
  {
   "cell_type": "code",
   "execution_count": null,
   "metadata": {},
   "outputs": [],
   "source": [
    "df_2009.shape"
   ]
  },
  {
   "cell_type": "code",
   "execution_count": null,
   "metadata": {},
   "outputs": [],
   "source": [
    "df_2009.dropna(subset=['DEP_TIME',\n",
    "                       'DEP_DELAY', \n",
    "                       'TAXI_OUT', \n",
    "                       'WHEELS_OFF', \n",
    "                       'WHEELS_ON', \n",
    "                       'TAXI_IN', \n",
    "                       'ARR_TIME', \n",
    "                       'ARR_DELAY', \n",
    "                       'AIR_TIME'], inplace=True)\n",
    "df_2009.shape"
   ]
  },
  {
   "cell_type": "code",
   "execution_count": null,
   "metadata": {},
   "outputs": [],
   "source": [
    "df_2009.info()"
   ]
  },
  {
   "cell_type": "markdown",
   "metadata": {},
   "source": [
    "**END of Exploratory Analysis**"
   ]
  },
  {
   "cell_type": "code",
   "execution_count": 7,
   "metadata": {},
   "outputs": [],
   "source": [
    "for df in df_list:\n",
    "    df['Delay'] = np.where((df['CARRIER_DELAY'] > 0) | \n",
    "                           (df['WEATHER_DELAY'] > 0) | \n",
    "                           (df['NAS_DELAY'] > 0) | \n",
    "                           (df['SECURITY_DELAY'] > 0) | \n",
    "                           (df['LATE_AIRCRAFT_DELAY'] > 0), 1, 0)"
   ]
  },
  {
   "cell_type": "code",
   "execution_count": 8,
   "metadata": {},
   "outputs": [],
   "source": [
    "for df in df_list_train:\n",
    "    df.drop(columns=['Unnamed: 27',\n",
    "                 'CRS_DEP_TIME',\n",
    "                 'CANCELLED',\n",
    "                 'CANCELLATION_CODE', \n",
    "                 'DIVERTED', \n",
    "                 'CRS_ELAPSED_TIME', \n",
    "                 'ACTUAL_ELAPSED_TIME',\n",
    "                 'CARRIER_DELAY',\n",
    "                 'WEATHER_DELAY',\n",
    "                 'NAS_DELAY',\n",
    "                 'SECURITY_DELAY', \n",
    "                 'CRS_ARR_TIME',\n",
    "                 'LATE_AIRCRAFT_DELAY'], inplace=True)\n",
    "    df.dropna(subset=['DEP_TIME',\n",
    "                       'DEP_DELAY', \n",
    "                       'TAXI_OUT', \n",
    "                       'WHEELS_OFF', \n",
    "                       'WHEELS_ON', \n",
    "                       'TAXI_IN', \n",
    "                       'ARR_TIME', \n",
    "                       'ARR_DELAY', \n",
    "                       'AIR_TIME'], inplace=True)\n",
    "    \n",
    "df_2019.drop(columns=['Unnamed: 20', \n",
    "                 'CARRIER_DELAY',\n",
    "                 'WEATHER_DELAY',\n",
    "                 'NAS_DELAY',\n",
    "                 'SECURITY_DELAY',\n",
    "                 'LATE_AIRCRAFT_DELAY'], inplace=True)\n",
    "df_2019.dropna(subset=['DEP_TIME',\n",
    "                       'DEP_DELAY', \n",
    "                       'TAXI_OUT', \n",
    "                       'WHEELS_OFF', \n",
    "                       'WHEELS_ON', \n",
    "                       'TAXI_IN', \n",
    "                       'ARR_TIME', \n",
    "                       'ARR_DELAY', \n",
    "                       'AIR_TIME'], inplace=True)\n",
    "df_2019.rename(columns = {'OP_UNIQUE_CARRIER':'OP_CARRIER'},inplace=True)\n",
    "df_test = df_2019\n"
   ]
  },
  {
   "cell_type": "code",
   "execution_count": 9,
   "metadata": {},
   "outputs": [],
   "source": [
    "df_model = pd.concat([df_2009, df_2010, df_2011, df_2012, df_2013, df_2014, df_2015, df_2016, df_2017, df_2018, df_2019])"
   ]
  },
  {
   "cell_type": "code",
   "execution_count": 10,
   "metadata": {},
   "outputs": [],
   "source": [
    "in_list = df_model['OP_CARRIER'].isin(['AA', 'B6', 'WN', 'DL', 'F9', 'AS', 'NK', 'UA', '9E', 'CO', 'FL', 'HA'])\n",
    "df_model = df_model[in_list]\n",
    "# in_list_1 = df_2019['OP_CARRIER'].isin(['AA', 'B6', 'WN', 'DL', 'F9', 'AS', 'NK', 'UA', '9E', 'CO', 'FL', 'HA'])\n",
    "# df_test = df_2019[in_list_1]"
   ]
  },
  {
   "cell_type": "code",
   "execution_count": 11,
   "metadata": {},
   "outputs": [],
   "source": [
    "df_model['date'] = pd.to_datetime(df_model['FL_DATE'])\n",
    "\n",
    "# Extract the year, month, and day of the week from the date field\n",
    "df_model['year'] = df_model['date'].dt.year\n",
    "df_model['month'] = df_model['date'].dt.month\n",
    "df_model['day_of_week'] = df_model['date'].dt.dayofweek\n",
    "\n",
    "# Drop the original date field\n",
    "df_model = df_model.drop(columns=['date', 'FL_DATE'])\n",
    "df_model= df_model[['year', 'month', 'day_of_week', 'OP_CARRIER', 'OP_CARRIER_FL_NUM', 'ORIGIN', 'DEST',\n",
    "                               'DEP_TIME', 'DEP_DELAY', 'TAXI_OUT', 'WHEELS_OFF', 'WHEELS_ON', 'TAXI_IN', 'ARR_TIME',\n",
    "                               'ARR_DELAY', 'AIR_TIME', 'DISTANCE', 'Delay']]\n",
    "\n",
    "# df_test['date'] = pd.to_datetime(df_test['FL_DATE'])\n",
    "\n",
    "# # Extract the year, month, and day of the week from the date field\n",
    "# df_test['year'] = df_test['date'].dt.year\n",
    "# df_test['month'] = df_test['date'].dt.month\n",
    "# df_test['day_of_week'] = df_test['date'].dt.dayofweek\n",
    "\n",
    "# # Drop the original date field\n",
    "# df_test = df_test.drop(columns=['date', 'FL_DATE'])\n",
    "# df_test = df_test[['year', 'month', 'day_of_week', 'OP_CARRIER', 'OP_CARRIER_FL_NUM', 'ORIGIN', 'DEST',\n",
    "#                                'DEP_TIME', 'DEP_DELAY', 'TAXI_OUT', 'WHEELS_OFF', 'WHEELS_ON', 'TAXI_IN', 'ARR_TIME',\n",
    "#                                'ARR_DELAY', 'AIR_TIME', 'DISTANCE', 'Delay']]"
   ]
  },
  {
   "cell_type": "code",
   "execution_count": 12,
   "metadata": {},
   "outputs": [],
   "source": [
    "df_model.dropna(subset=['year', 'month', 'day_of_week'], inplace=True)\n",
    "# df_test.dropna(subset=['year', 'month', 'day_of_week'], inplace=True)"
   ]
  },
  {
   "cell_type": "code",
   "execution_count": 13,
   "metadata": {},
   "outputs": [
    {
     "name": "stdout",
     "output_type": "stream",
     "text": [
      "<class 'pandas.core.frame.DataFrame'>\n",
      "Int64Index: 4497245 entries, 3133 to 7421451\n",
      "Data columns (total 18 columns):\n",
      " #   Column             Dtype  \n",
      "---  ------             -----  \n",
      " 0   year               int64  \n",
      " 1   month              int64  \n",
      " 2   day_of_week        int64  \n",
      " 3   OP_CARRIER         object \n",
      " 4   OP_CARRIER_FL_NUM  int64  \n",
      " 5   ORIGIN             object \n",
      " 6   DEST               object \n",
      " 7   DEP_TIME           float64\n",
      " 8   DEP_DELAY          float64\n",
      " 9   TAXI_OUT           float64\n",
      " 10  WHEELS_OFF         float64\n",
      " 11  WHEELS_ON          float64\n",
      " 12  TAXI_IN            float64\n",
      " 13  ARR_TIME           float64\n",
      " 14  ARR_DELAY          float64\n",
      " 15  AIR_TIME           float64\n",
      " 16  DISTANCE           float64\n",
      " 17  Delay              int32  \n",
      "dtypes: float64(10), int32(1), int64(4), object(3)\n",
      "memory usage: 634.8+ MB\n"
     ]
    }
   ],
   "source": [
    "df_model.info()"
   ]
  },
  {
   "cell_type": "code",
   "execution_count": 13,
   "metadata": {},
   "outputs": [],
   "source": [
    "df_model = pd.get_dummies(df_model, columns=['OP_CARRIER', 'ORIGIN', 'DEST'])\n",
    "# df_test = pd.get_dummies(df_test, columns=['OP_CARRIER', 'ORIGIN', 'DEST'])"
   ]
  },
  {
   "cell_type": "code",
   "execution_count": 15,
   "metadata": {},
   "outputs": [
    {
     "name": "stdout",
     "output_type": "stream",
     "text": [
      "<class 'pandas.core.frame.DataFrame'>\n",
      "Int64Index: 4497245 entries, 3133 to 7421451\n",
      "Data columns (total 46 columns):\n",
      " #   Column             Dtype  \n",
      "---  ------             -----  \n",
      " 0   year               int64  \n",
      " 1   month              int64  \n",
      " 2   day_of_week        int64  \n",
      " 3   OP_CARRIER_FL_NUM  int64  \n",
      " 4   DEP_TIME           float64\n",
      " 5   DEP_DELAY          float64\n",
      " 6   TAXI_OUT           float64\n",
      " 7   WHEELS_OFF         float64\n",
      " 8   WHEELS_ON          float64\n",
      " 9   TAXI_IN            float64\n",
      " 10  ARR_TIME           float64\n",
      " 11  ARR_DELAY          float64\n",
      " 12  AIR_TIME           float64\n",
      " 13  DISTANCE           float64\n",
      " 14  Delay              int32  \n",
      " 15  OP_CARRIER_9E      uint8  \n",
      " 16  OP_CARRIER_AA      uint8  \n",
      " 17  OP_CARRIER_AS      uint8  \n",
      " 18  OP_CARRIER_B6      uint8  \n",
      " 19  OP_CARRIER_CO      uint8  \n",
      " 20  OP_CARRIER_DL      uint8  \n",
      " 21  OP_CARRIER_F9      uint8  \n",
      " 22  OP_CARRIER_FL      uint8  \n",
      " 23  OP_CARRIER_NK      uint8  \n",
      " 24  OP_CARRIER_UA      uint8  \n",
      " 25  OP_CARRIER_WN      uint8  \n",
      " 26  ORIGIN_ATL         uint8  \n",
      " 27  ORIGIN_DEN         uint8  \n",
      " 28  ORIGIN_DFW         uint8  \n",
      " 29  ORIGIN_DTW         uint8  \n",
      " 30  ORIGIN_IAH         uint8  \n",
      " 31  ORIGIN_LAS         uint8  \n",
      " 32  ORIGIN_LAX         uint8  \n",
      " 33  ORIGIN_ORD         uint8  \n",
      " 34  ORIGIN_PHX         uint8  \n",
      " 35  ORIGIN_SFO         uint8  \n",
      " 36  DEST_ATL           uint8  \n",
      " 37  DEST_DEN           uint8  \n",
      " 38  DEST_DFW           uint8  \n",
      " 39  DEST_DTW           uint8  \n",
      " 40  DEST_IAH           uint8  \n",
      " 41  DEST_LAS           uint8  \n",
      " 42  DEST_LAX           uint8  \n",
      " 43  DEST_ORD           uint8  \n",
      " 44  DEST_PHX           uint8  \n",
      " 45  DEST_SFO           uint8  \n",
      "dtypes: float64(10), int32(1), int64(4), uint8(31)\n",
      "memory usage: 664.8 MB\n"
     ]
    }
   ],
   "source": [
    "df_model.info()"
   ]
  },
  {
   "cell_type": "markdown",
   "metadata": {},
   "source": [
    "# Graph Stuff "
   ]
  },
  {
   "cell_type": "code",
   "execution_count": null,
   "metadata": {},
   "outputs": [],
   "source": [
    "delay_counts = df_train.groupby('OP_CARRIER')['Delay'].size()\n",
    "print(delay_counts)"
   ]
  },
  {
   "cell_type": "code",
   "execution_count": null,
   "metadata": {},
   "outputs": [],
   "source": [
    "x_values = delay_counts.index\n",
    "y_values = delay_counts.values \n",
    "\n",
    "fig, ax = plt.subplots()\n",
    "\n",
    "ax.bar(x_values, y_values)\n",
    "\n",
    "ax.set_title('Delay Counts by Airline from 2009-2018')\n",
    "ax.set_xlabel('Airline')\n",
    "ax.set_ylabel('Delay Count')\n",
    "\n",
    "\n",
    "plt.show()"
   ]
  },
  {
   "cell_type": "markdown",
   "metadata": {},
   "source": [
    "**End of Graph Stuff**"
   ]
  },
  {
   "cell_type": "code",
   "execution_count": 14,
   "metadata": {},
   "outputs": [
    {
     "data": {
      "text/plain": [
       "(4497245, 46)"
      ]
     },
     "execution_count": 14,
     "metadata": {},
     "output_type": "execute_result"
    }
   ],
   "source": [
    "df_model.shape"
   ]
  },
  {
   "cell_type": "code",
   "execution_count": 15,
   "metadata": {},
   "outputs": [],
   "source": [
    "from sklearn.linear_model import LogisticRegression\n",
    "from sklearn.model_selection import train_test_split\n",
    "from sklearn.preprocessing import StandardScaler\n",
    "\n",
    "X = df_model.drop('Delay', axis=1)\n",
    "y = df_model['Delay']\n",
    "\n",
    "X_train, X_test, y_train, y_test = train_test_split(X, y, test_size=0.2, random_state=12)"
   ]
  },
  {
   "cell_type": "code",
   "execution_count": 16,
   "metadata": {},
   "outputs": [],
   "source": [
    "from sklearn.preprocessing import StandardScaler\n",
    "scale = StandardScaler()\n",
    "X_train = scale.fit_transform(X_train)\n",
    "X_test = scale.fit_transform(X_test)"
   ]
  },
  {
   "cell_type": "code",
   "execution_count": 17,
   "metadata": {},
   "outputs": [
    {
     "data": {
      "text/plain": [
       "0    0.793193\n",
       "1    0.206807\n",
       "Name: Delay, dtype: float64"
      ]
     },
     "execution_count": 17,
     "metadata": {},
     "output_type": "execute_result"
    }
   ],
   "source": [
    "y_train.value_counts(normalize=True)"
   ]
  },
  {
   "cell_type": "code",
   "execution_count": 18,
   "metadata": {},
   "outputs": [
    {
     "data": {
      "text/plain": [
       "LogisticRegression(class_weight={0: 0.8, 1: 0.2})"
      ]
     },
     "execution_count": 18,
     "metadata": {},
     "output_type": "execute_result"
    }
   ],
   "source": [
    "from sklearn.metrics import f1_score\n",
    "\n",
    "lr_basemodel = LogisticRegression(class_weight={0:0.8, 1:0.2})\n",
    "lr_basemodel.fit(X_train, y_train)"
   ]
  },
  {
   "cell_type": "code",
   "execution_count": 19,
   "metadata": {},
   "outputs": [
    {
     "name": "stdout",
     "output_type": "stream",
     "text": [
      "F1 score for the base model is:  0.9846484218118633\n"
     ]
    }
   ],
   "source": [
    "y_pred_basemodel = lr_basemodel.predict(X_test)\n",
    "print('F1 score for the base model is: ',f1_score(y_test,y_pred_basemodel))"
   ]
  },
  {
   "cell_type": "code",
   "execution_count": null,
   "metadata": {},
   "outputs": [],
   "source": [
    "from sklearn.model_selection import StratifiedKFold\n",
    "from sklearn.model_selection import GridSearchCV\n",
    "from sklearn.model_selection import KFold\n",
    "\n",
    "lr = LogisticRegression()\n",
    "weights = np.linspace(0,0.99,100)\n",
    "param = {'C': [0.1, 0.5, 1,10,15,20], 'penalty': ['l1', 'l2'],\"class_weight\":[{0:x ,1:1.0 -x} for x in weights]}\n",
    "folds = KFold(n_splits = 3, shuffle = True, random_state=13)\n",
    "model = GridSearchCV(estimator= lr, param_grid=param, scoring=\"f1\", cv=folds, return_train_score=True)\n",
    "model.fit(X_train, y_train)"
   ]
  },
  {
   "cell_type": "code",
   "execution_count": null,
   "metadata": {},
   "outputs": [],
   "source": []
  }
 ],
 "metadata": {
  "kernelspec": {
   "display_name": "Python 3",
   "language": "python",
   "name": "python3"
  },
  "language_info": {
   "codemirror_mode": {
    "name": "ipython",
    "version": 3
   },
   "file_extension": ".py",
   "mimetype": "text/x-python",
   "name": "python",
   "nbconvert_exporter": "python",
   "pygments_lexer": "ipython3",
   "version": "3.8.5"
  }
 },
 "nbformat": 4,
 "nbformat_minor": 5
}
